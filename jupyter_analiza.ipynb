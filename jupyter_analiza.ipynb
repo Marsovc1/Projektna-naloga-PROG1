{
 "cells": [
  {
   "cell_type": "code",
   "execution_count": 8,
   "metadata": {},
   "outputs": [],
   "source": [
    "import pandas as pd\n",
    "\n",
    "path = 'C:\\\\Users\\\\marsovc\\\\Desktop\\\\Fmf\\\\Dodiplomsko\\\\Financna 3. letnik\\\\Programiranje 1\\\\Projektna-naloga-PROG1\\\\podatki\\\\'\n",
    "\n",
    "#združimo csvje v 2 df-ja: prihod in odhod\n",
    "stolpci = ['Ime', 'Državljanstvo', 'Pozicija', 'Klub', 'Cena', 'Leto']\n",
    "prihod = pd.DataFrame(columns=stolpci)\n",
    "odhod = pd.DataFrame(columns=stolpci)\n",
    "\n",
    "for i in range (2000,2020):\n",
    "    transferIN = pd.read_csv(str(path+str(i)+'IN.csv'))\n",
    "    prihod=prihod.append(transferIN)\n",
    "\n",
    "    transferOUT = pd.read_csv(str(path+str(i)+'OUT.csv'))\n",
    "    odhodDF=odhod.append(transferOUT)"
   ]
  },
  {
   "cell_type": "code",
   "execution_count": null,
   "metadata": {},
   "outputs": [],
   "source": []
  }
 ],
 "metadata": {
  "kernelspec": {
   "display_name": "Python 3",
   "language": "python",
   "name": "python3"
  },
  "language_info": {
   "codemirror_mode": {
    "name": "ipython",
    "version": 3
   },
   "file_extension": ".py",
   "mimetype": "text/x-python",
   "name": "python",
   "nbconvert_exporter": "python",
   "pygments_lexer": "ipython3",
   "version": "3.8.5"
  }
 },
 "nbformat": 4,
 "nbformat_minor": 4
}
